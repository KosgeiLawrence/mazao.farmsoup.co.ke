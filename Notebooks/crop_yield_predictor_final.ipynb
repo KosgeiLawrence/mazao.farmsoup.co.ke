{
 "cells": [
  {
   "cell_type": "markdown",
   "metadata": {},
   "source": [
    "# Crop Yield Predictor"
   ]
  },
  {
   "cell_type": "code",
   "execution_count": 2,
   "metadata": {},
   "outputs": [],
   "source": [
    "import pandas as pd\n",
    "import numpy as np\n",
    "import matplotlib.pyplot as plt\n",
    "import seaborn as sns\n",
    "import missingno\n",
    "from sklearn.preprocessing import LabelEncoder\n",
    "from pandas.plotting import scatter_matrix\n",
    "from sklearn.model_selection import train_test_split\n",
    "from sklearn.linear_model import LinearRegression\n",
    "from sklearn.preprocessing import StandardScaler\n",
    "\n",
    "from sklearn.linear_model import LinearRegression\n",
    "from sklearn.ensemble import RandomForestRegressor, GradientBoostingRegressor \n",
    "from sklearn.metrics import mean_squared_error, r2_score, mean_absolute_error, mean_absolute_percentage_error\n",
    "from xgboost import XGBRegressor\n",
    "from sklearn.neighbors import KNeighborsRegressor\n",
    "from sklearn.tree import DecisionTreeRegressor\n",
    "from sklearn.ensemble import BaggingRegressor"
   ]
  },
  {
   "cell_type": "code",
   "execution_count": 3,
   "metadata": {},
   "outputs": [],
   "source": [
    "yield_ = pd.read_csv('yield_Dataset/yield.csv')\n",
    "temp = pd.read_csv('yield_Dataset/temp.csv')\n",
    "rainfall = pd.read_csv('yield_Dataset/rainfall.csv')\n",
    "pesticides = pd.read_csv('yield_Dataset/pesticides.csv')\n",
    "yield_df = pd.read_csv('yield_Dataset/yield_df.csv')"
   ]
  },
  {
   "cell_type": "code",
   "execution_count": 5,
   "metadata": {},
   "outputs": [],
   "source": [
    "selected_columns = ['Area','Item','Year','Value']"
   ]
  },
  {
   "cell_type": "code",
   "execution_count": 6,
   "metadata": {},
   "outputs": [],
   "source": [
    "yield_ = yield_[selected_columns]"
   ]
  },
  {
   "cell_type": "code",
   "execution_count": 7,
   "metadata": {},
   "outputs": [
    {
     "data": {
      "text/html": [
       "<div>\n",
       "<style scoped>\n",
       "    .dataframe tbody tr th:only-of-type {\n",
       "        vertical-align: middle;\n",
       "    }\n",
       "\n",
       "    .dataframe tbody tr th {\n",
       "        vertical-align: top;\n",
       "    }\n",
       "\n",
       "    .dataframe thead th {\n",
       "        text-align: right;\n",
       "    }\n",
       "</style>\n",
       "<table border=\"1\" class=\"dataframe\">\n",
       "  <thead>\n",
       "    <tr style=\"text-align: right;\">\n",
       "      <th></th>\n",
       "      <th>year</th>\n",
       "      <th>country</th>\n",
       "      <th>avg_temp</th>\n",
       "    </tr>\n",
       "  </thead>\n",
       "  <tbody>\n",
       "    <tr>\n",
       "      <th>0</th>\n",
       "      <td>1849</td>\n",
       "      <td>Côte D'Ivoire</td>\n",
       "      <td>25.58</td>\n",
       "    </tr>\n",
       "    <tr>\n",
       "      <th>1</th>\n",
       "      <td>1850</td>\n",
       "      <td>Côte D'Ivoire</td>\n",
       "      <td>25.52</td>\n",
       "    </tr>\n",
       "    <tr>\n",
       "      <th>2</th>\n",
       "      <td>1851</td>\n",
       "      <td>Côte D'Ivoire</td>\n",
       "      <td>25.67</td>\n",
       "    </tr>\n",
       "    <tr>\n",
       "      <th>3</th>\n",
       "      <td>1852</td>\n",
       "      <td>Côte D'Ivoire</td>\n",
       "      <td>NaN</td>\n",
       "    </tr>\n",
       "    <tr>\n",
       "      <th>4</th>\n",
       "      <td>1853</td>\n",
       "      <td>Côte D'Ivoire</td>\n",
       "      <td>NaN</td>\n",
       "    </tr>\n",
       "  </tbody>\n",
       "</table>\n",
       "</div>"
      ],
      "text/plain": [
       "   year        country  avg_temp\n",
       "0  1849  Côte D'Ivoire     25.58\n",
       "1  1850  Côte D'Ivoire     25.52\n",
       "2  1851  Côte D'Ivoire     25.67\n",
       "3  1852  Côte D'Ivoire       NaN\n",
       "4  1853  Côte D'Ivoire       NaN"
      ]
     },
     "execution_count": 7,
     "metadata": {},
     "output_type": "execute_result"
    }
   ],
   "source": [
    "temp.head()"
   ]
  },
  {
   "cell_type": "code",
   "execution_count": 8,
   "metadata": {},
   "outputs": [
    {
     "data": {
      "text/html": [
       "<div>\n",
       "<style scoped>\n",
       "    .dataframe tbody tr th:only-of-type {\n",
       "        vertical-align: middle;\n",
       "    }\n",
       "\n",
       "    .dataframe tbody tr th {\n",
       "        vertical-align: top;\n",
       "    }\n",
       "\n",
       "    .dataframe thead th {\n",
       "        text-align: right;\n",
       "    }\n",
       "</style>\n",
       "<table border=\"1\" class=\"dataframe\">\n",
       "  <thead>\n",
       "    <tr style=\"text-align: right;\">\n",
       "      <th></th>\n",
       "      <th>year</th>\n",
       "      <th>country</th>\n",
       "      <th>avg_temp</th>\n",
       "    </tr>\n",
       "  </thead>\n",
       "  <tbody>\n",
       "    <tr>\n",
       "      <th>0</th>\n",
       "      <td>1849</td>\n",
       "      <td>Côte D'Ivoire</td>\n",
       "      <td>25.58</td>\n",
       "    </tr>\n",
       "    <tr>\n",
       "      <th>1</th>\n",
       "      <td>1850</td>\n",
       "      <td>Côte D'Ivoire</td>\n",
       "      <td>25.52</td>\n",
       "    </tr>\n",
       "    <tr>\n",
       "      <th>2</th>\n",
       "      <td>1851</td>\n",
       "      <td>Côte D'Ivoire</td>\n",
       "      <td>25.67</td>\n",
       "    </tr>\n",
       "    <tr>\n",
       "      <th>3</th>\n",
       "      <td>1852</td>\n",
       "      <td>Côte D'Ivoire</td>\n",
       "      <td>NaN</td>\n",
       "    </tr>\n",
       "    <tr>\n",
       "      <th>4</th>\n",
       "      <td>1853</td>\n",
       "      <td>Côte D'Ivoire</td>\n",
       "      <td>NaN</td>\n",
       "    </tr>\n",
       "  </tbody>\n",
       "</table>\n",
       "</div>"
      ],
      "text/plain": [
       "   year        country  avg_temp\n",
       "0  1849  Côte D'Ivoire     25.58\n",
       "1  1850  Côte D'Ivoire     25.52\n",
       "2  1851  Côte D'Ivoire     25.67\n",
       "3  1852  Côte D'Ivoire       NaN\n",
       "4  1853  Côte D'Ivoire       NaN"
      ]
     },
     "execution_count": 8,
     "metadata": {},
     "output_type": "execute_result"
    }
   ],
   "source": [
    "temp.head()"
   ]
  },
  {
   "cell_type": "code",
   "execution_count": 9,
   "metadata": {},
   "outputs": [],
   "source": [
    "temp.rename(columns = {'year':'Year','country':'Area'}, inplace = True)"
   ]
  },
  {
   "cell_type": "code",
   "execution_count": 10,
   "metadata": {},
   "outputs": [
    {
     "data": {
      "text/html": [
       "<div>\n",
       "<style scoped>\n",
       "    .dataframe tbody tr th:only-of-type {\n",
       "        vertical-align: middle;\n",
       "    }\n",
       "\n",
       "    .dataframe tbody tr th {\n",
       "        vertical-align: top;\n",
       "    }\n",
       "\n",
       "    .dataframe thead th {\n",
       "        text-align: right;\n",
       "    }\n",
       "</style>\n",
       "<table border=\"1\" class=\"dataframe\">\n",
       "  <thead>\n",
       "    <tr style=\"text-align: right;\">\n",
       "      <th></th>\n",
       "      <th>Area</th>\n",
       "      <th>Year</th>\n",
       "      <th>average_rain_fall_mm_per_year</th>\n",
       "    </tr>\n",
       "  </thead>\n",
       "  <tbody>\n",
       "    <tr>\n",
       "      <th>0</th>\n",
       "      <td>Afghanistan</td>\n",
       "      <td>1985</td>\n",
       "      <td>327</td>\n",
       "    </tr>\n",
       "    <tr>\n",
       "      <th>1</th>\n",
       "      <td>Afghanistan</td>\n",
       "      <td>1986</td>\n",
       "      <td>327</td>\n",
       "    </tr>\n",
       "    <tr>\n",
       "      <th>2</th>\n",
       "      <td>Afghanistan</td>\n",
       "      <td>1987</td>\n",
       "      <td>327</td>\n",
       "    </tr>\n",
       "    <tr>\n",
       "      <th>3</th>\n",
       "      <td>Afghanistan</td>\n",
       "      <td>1989</td>\n",
       "      <td>327</td>\n",
       "    </tr>\n",
       "    <tr>\n",
       "      <th>4</th>\n",
       "      <td>Afghanistan</td>\n",
       "      <td>1990</td>\n",
       "      <td>327</td>\n",
       "    </tr>\n",
       "  </tbody>\n",
       "</table>\n",
       "</div>"
      ],
      "text/plain": [
       "          Area  Year average_rain_fall_mm_per_year\n",
       "0  Afghanistan  1985                           327\n",
       "1  Afghanistan  1986                           327\n",
       "2  Afghanistan  1987                           327\n",
       "3  Afghanistan  1989                           327\n",
       "4  Afghanistan  1990                           327"
      ]
     },
     "execution_count": 10,
     "metadata": {},
     "output_type": "execute_result"
    }
   ],
   "source": [
    "rainfall.head()"
   ]
  },
  {
   "cell_type": "code",
   "execution_count": 11,
   "metadata": {},
   "outputs": [
    {
     "data": {
      "text/html": [
       "<div>\n",
       "<style scoped>\n",
       "    .dataframe tbody tr th:only-of-type {\n",
       "        vertical-align: middle;\n",
       "    }\n",
       "\n",
       "    .dataframe tbody tr th {\n",
       "        vertical-align: top;\n",
       "    }\n",
       "\n",
       "    .dataframe thead th {\n",
       "        text-align: right;\n",
       "    }\n",
       "</style>\n",
       "<table border=\"1\" class=\"dataframe\">\n",
       "  <thead>\n",
       "    <tr style=\"text-align: right;\">\n",
       "      <th></th>\n",
       "      <th>Domain</th>\n",
       "      <th>Area</th>\n",
       "      <th>Element</th>\n",
       "      <th>Item</th>\n",
       "      <th>Year</th>\n",
       "      <th>Unit</th>\n",
       "      <th>Value</th>\n",
       "    </tr>\n",
       "  </thead>\n",
       "  <tbody>\n",
       "    <tr>\n",
       "      <th>0</th>\n",
       "      <td>Pesticides Use</td>\n",
       "      <td>Albania</td>\n",
       "      <td>Use</td>\n",
       "      <td>Pesticides (total)</td>\n",
       "      <td>1990</td>\n",
       "      <td>tonnes of active ingredients</td>\n",
       "      <td>121.0</td>\n",
       "    </tr>\n",
       "    <tr>\n",
       "      <th>1</th>\n",
       "      <td>Pesticides Use</td>\n",
       "      <td>Albania</td>\n",
       "      <td>Use</td>\n",
       "      <td>Pesticides (total)</td>\n",
       "      <td>1991</td>\n",
       "      <td>tonnes of active ingredients</td>\n",
       "      <td>121.0</td>\n",
       "    </tr>\n",
       "    <tr>\n",
       "      <th>2</th>\n",
       "      <td>Pesticides Use</td>\n",
       "      <td>Albania</td>\n",
       "      <td>Use</td>\n",
       "      <td>Pesticides (total)</td>\n",
       "      <td>1992</td>\n",
       "      <td>tonnes of active ingredients</td>\n",
       "      <td>121.0</td>\n",
       "    </tr>\n",
       "    <tr>\n",
       "      <th>3</th>\n",
       "      <td>Pesticides Use</td>\n",
       "      <td>Albania</td>\n",
       "      <td>Use</td>\n",
       "      <td>Pesticides (total)</td>\n",
       "      <td>1993</td>\n",
       "      <td>tonnes of active ingredients</td>\n",
       "      <td>121.0</td>\n",
       "    </tr>\n",
       "    <tr>\n",
       "      <th>4</th>\n",
       "      <td>Pesticides Use</td>\n",
       "      <td>Albania</td>\n",
       "      <td>Use</td>\n",
       "      <td>Pesticides (total)</td>\n",
       "      <td>1994</td>\n",
       "      <td>tonnes of active ingredients</td>\n",
       "      <td>201.0</td>\n",
       "    </tr>\n",
       "  </tbody>\n",
       "</table>\n",
       "</div>"
      ],
      "text/plain": [
       "           Domain     Area Element                Item  Year  \\\n",
       "0  Pesticides Use  Albania     Use  Pesticides (total)  1990   \n",
       "1  Pesticides Use  Albania     Use  Pesticides (total)  1991   \n",
       "2  Pesticides Use  Albania     Use  Pesticides (total)  1992   \n",
       "3  Pesticides Use  Albania     Use  Pesticides (total)  1993   \n",
       "4  Pesticides Use  Albania     Use  Pesticides (total)  1994   \n",
       "\n",
       "                           Unit  Value  \n",
       "0  tonnes of active ingredients  121.0  \n",
       "1  tonnes of active ingredients  121.0  \n",
       "2  tonnes of active ingredients  121.0  \n",
       "3  tonnes of active ingredients  121.0  \n",
       "4  tonnes of active ingredients  201.0  "
      ]
     },
     "execution_count": 11,
     "metadata": {},
     "output_type": "execute_result"
    }
   ],
   "source": [
    "pesticides.head(5)"
   ]
  },
  {
   "cell_type": "code",
   "execution_count": 12,
   "metadata": {},
   "outputs": [],
   "source": [
    "selected_columns = ['Area','Year','Value']\n",
    "pesticides  = pesticides[selected_columns]"
   ]
  },
  {
   "cell_type": "code",
   "execution_count": 13,
   "metadata": {},
   "outputs": [
    {
     "name": "stdout",
     "output_type": "stream",
     "text": [
      "Shape of the yield dataset:  (56717, 4)\n",
      "Shape of the temp dataset:  (71311, 3)\n",
      "Shape of the rainfall dataset:  (6727, 3)\n",
      "Shape of the pesticides dataset:  (4349, 3)\n"
     ]
    }
   ],
   "source": [
    "#shape of the data\n",
    "print(\"Shape of the yield dataset: \",yield_.shape)\n",
    "print(\"Shape of the temp dataset: \",temp.shape)\n",
    "print(\"Shape of the rainfall dataset: \",rainfall.shape)\n",
    "print(\"Shape of the pesticides dataset: \",pesticides.shape)"
   ]
  },
  {
   "cell_type": "code",
   "execution_count": 14,
   "metadata": {},
   "outputs": [],
   "source": [
    "temp = temp[temp['Year'] >= 1961]\n",
    "final_yield = pd.merge(yield_,temp,on=[\"Area\",\"Year\"])"
   ]
  },
  {
   "cell_type": "code",
   "execution_count": 15,
   "metadata": {},
   "outputs": [
    {
     "data": {
      "text/html": [
       "<div>\n",
       "<style scoped>\n",
       "    .dataframe tbody tr th:only-of-type {\n",
       "        vertical-align: middle;\n",
       "    }\n",
       "\n",
       "    .dataframe tbody tr th {\n",
       "        vertical-align: top;\n",
       "    }\n",
       "\n",
       "    .dataframe thead th {\n",
       "        text-align: right;\n",
       "    }\n",
       "</style>\n",
       "<table border=\"1\" class=\"dataframe\">\n",
       "  <thead>\n",
       "    <tr style=\"text-align: right;\">\n",
       "      <th></th>\n",
       "      <th>Area</th>\n",
       "      <th>Item</th>\n",
       "      <th>Year</th>\n",
       "      <th>Value</th>\n",
       "      <th>avg_temp</th>\n",
       "    </tr>\n",
       "  </thead>\n",
       "  <tbody>\n",
       "    <tr>\n",
       "      <th>0</th>\n",
       "      <td>Afghanistan</td>\n",
       "      <td>Maize</td>\n",
       "      <td>1961</td>\n",
       "      <td>14000</td>\n",
       "      <td>14.23</td>\n",
       "    </tr>\n",
       "    <tr>\n",
       "      <th>1</th>\n",
       "      <td>Afghanistan</td>\n",
       "      <td>Potatoes</td>\n",
       "      <td>1961</td>\n",
       "      <td>86667</td>\n",
       "      <td>14.23</td>\n",
       "    </tr>\n",
       "    <tr>\n",
       "      <th>2</th>\n",
       "      <td>Afghanistan</td>\n",
       "      <td>Rice, paddy</td>\n",
       "      <td>1961</td>\n",
       "      <td>15190</td>\n",
       "      <td>14.23</td>\n",
       "    </tr>\n",
       "    <tr>\n",
       "      <th>3</th>\n",
       "      <td>Afghanistan</td>\n",
       "      <td>Wheat</td>\n",
       "      <td>1961</td>\n",
       "      <td>10220</td>\n",
       "      <td>14.23</td>\n",
       "    </tr>\n",
       "    <tr>\n",
       "      <th>4</th>\n",
       "      <td>Afghanistan</td>\n",
       "      <td>Maize</td>\n",
       "      <td>1962</td>\n",
       "      <td>14000</td>\n",
       "      <td>14.10</td>\n",
       "    </tr>\n",
       "  </tbody>\n",
       "</table>\n",
       "</div>"
      ],
      "text/plain": [
       "          Area         Item  Year  Value  avg_temp\n",
       "0  Afghanistan        Maize  1961  14000     14.23\n",
       "1  Afghanistan     Potatoes  1961  86667     14.23\n",
       "2  Afghanistan  Rice, paddy  1961  15190     14.23\n",
       "3  Afghanistan        Wheat  1961  10220     14.23\n",
       "4  Afghanistan        Maize  1962  14000     14.10"
      ]
     },
     "execution_count": 15,
     "metadata": {},
     "output_type": "execute_result"
    }
   ],
   "source": [
    "final_yield.head()"
   ]
  },
  {
   "cell_type": "code",
   "execution_count": 16,
   "metadata": {},
   "outputs": [
    {
     "data": {
      "text/html": [
       "<div>\n",
       "<style scoped>\n",
       "    .dataframe tbody tr th:only-of-type {\n",
       "        vertical-align: middle;\n",
       "    }\n",
       "\n",
       "    .dataframe tbody tr th {\n",
       "        vertical-align: top;\n",
       "    }\n",
       "\n",
       "    .dataframe thead th {\n",
       "        text-align: right;\n",
       "    }\n",
       "</style>\n",
       "<table border=\"1\" class=\"dataframe\">\n",
       "  <thead>\n",
       "    <tr style=\"text-align: right;\">\n",
       "      <th></th>\n",
       "      <th>Area</th>\n",
       "      <th>Item</th>\n",
       "      <th>Year</th>\n",
       "      <th>Value_x</th>\n",
       "      <th>avg_temp</th>\n",
       "      <th>Value_y</th>\n",
       "    </tr>\n",
       "  </thead>\n",
       "  <tbody>\n",
       "    <tr>\n",
       "      <th>0</th>\n",
       "      <td>Albania</td>\n",
       "      <td>Maize</td>\n",
       "      <td>1990</td>\n",
       "      <td>36613</td>\n",
       "      <td>16.37</td>\n",
       "      <td>121.0</td>\n",
       "    </tr>\n",
       "    <tr>\n",
       "      <th>1</th>\n",
       "      <td>Albania</td>\n",
       "      <td>Potatoes</td>\n",
       "      <td>1990</td>\n",
       "      <td>66667</td>\n",
       "      <td>16.37</td>\n",
       "      <td>121.0</td>\n",
       "    </tr>\n",
       "    <tr>\n",
       "      <th>2</th>\n",
       "      <td>Albania</td>\n",
       "      <td>Rice, paddy</td>\n",
       "      <td>1990</td>\n",
       "      <td>23333</td>\n",
       "      <td>16.37</td>\n",
       "      <td>121.0</td>\n",
       "    </tr>\n",
       "    <tr>\n",
       "      <th>3</th>\n",
       "      <td>Albania</td>\n",
       "      <td>Sorghum</td>\n",
       "      <td>1990</td>\n",
       "      <td>12500</td>\n",
       "      <td>16.37</td>\n",
       "      <td>121.0</td>\n",
       "    </tr>\n",
       "    <tr>\n",
       "      <th>4</th>\n",
       "      <td>Albania</td>\n",
       "      <td>Soybeans</td>\n",
       "      <td>1990</td>\n",
       "      <td>7000</td>\n",
       "      <td>16.37</td>\n",
       "      <td>121.0</td>\n",
       "    </tr>\n",
       "  </tbody>\n",
       "</table>\n",
       "</div>"
      ],
      "text/plain": [
       "      Area         Item  Year  Value_x  avg_temp  Value_y\n",
       "0  Albania        Maize  1990    36613     16.37    121.0\n",
       "1  Albania     Potatoes  1990    66667     16.37    121.0\n",
       "2  Albania  Rice, paddy  1990    23333     16.37    121.0\n",
       "3  Albania      Sorghum  1990    12500     16.37    121.0\n",
       "4  Albania     Soybeans  1990     7000     16.37    121.0"
      ]
     },
     "execution_count": 16,
     "metadata": {},
     "output_type": "execute_result"
    }
   ],
   "source": [
    "final_yield = pd.merge(final_yield,pesticides,on=['Year','Area'])\n",
    "final_yield.head()"
   ]
  },
  {
   "cell_type": "code",
   "execution_count": 17,
   "metadata": {},
   "outputs": [],
   "source": [
    "final_yield.rename(columns = {'Value_x':'Yield_Value','Value_y':'Pesticides_Value'}, inplace = True)"
   ]
  },
  {
   "cell_type": "code",
   "execution_count": 18,
   "metadata": {},
   "outputs": [
    {
     "data": {
      "text/html": [
       "<div>\n",
       "<style scoped>\n",
       "    .dataframe tbody tr th:only-of-type {\n",
       "        vertical-align: middle;\n",
       "    }\n",
       "\n",
       "    .dataframe tbody tr th {\n",
       "        vertical-align: top;\n",
       "    }\n",
       "\n",
       "    .dataframe thead th {\n",
       "        text-align: right;\n",
       "    }\n",
       "</style>\n",
       "<table border=\"1\" class=\"dataframe\">\n",
       "  <thead>\n",
       "    <tr style=\"text-align: right;\">\n",
       "      <th></th>\n",
       "      <th>Area</th>\n",
       "      <th>Item</th>\n",
       "      <th>Year</th>\n",
       "      <th>Yield_Value</th>\n",
       "      <th>avg_temp</th>\n",
       "      <th>Pesticides_Value</th>\n",
       "    </tr>\n",
       "  </thead>\n",
       "  <tbody>\n",
       "    <tr>\n",
       "      <th>0</th>\n",
       "      <td>Albania</td>\n",
       "      <td>Maize</td>\n",
       "      <td>1990</td>\n",
       "      <td>36613</td>\n",
       "      <td>16.37</td>\n",
       "      <td>121.0</td>\n",
       "    </tr>\n",
       "    <tr>\n",
       "      <th>1</th>\n",
       "      <td>Albania</td>\n",
       "      <td>Potatoes</td>\n",
       "      <td>1990</td>\n",
       "      <td>66667</td>\n",
       "      <td>16.37</td>\n",
       "      <td>121.0</td>\n",
       "    </tr>\n",
       "    <tr>\n",
       "      <th>2</th>\n",
       "      <td>Albania</td>\n",
       "      <td>Rice, paddy</td>\n",
       "      <td>1990</td>\n",
       "      <td>23333</td>\n",
       "      <td>16.37</td>\n",
       "      <td>121.0</td>\n",
       "    </tr>\n",
       "    <tr>\n",
       "      <th>3</th>\n",
       "      <td>Albania</td>\n",
       "      <td>Sorghum</td>\n",
       "      <td>1990</td>\n",
       "      <td>12500</td>\n",
       "      <td>16.37</td>\n",
       "      <td>121.0</td>\n",
       "    </tr>\n",
       "    <tr>\n",
       "      <th>4</th>\n",
       "      <td>Albania</td>\n",
       "      <td>Soybeans</td>\n",
       "      <td>1990</td>\n",
       "      <td>7000</td>\n",
       "      <td>16.37</td>\n",
       "      <td>121.0</td>\n",
       "    </tr>\n",
       "  </tbody>\n",
       "</table>\n",
       "</div>"
      ],
      "text/plain": [
       "      Area         Item  Year  Yield_Value  avg_temp  Pesticides_Value\n",
       "0  Albania        Maize  1990        36613     16.37             121.0\n",
       "1  Albania     Potatoes  1990        66667     16.37             121.0\n",
       "2  Albania  Rice, paddy  1990        23333     16.37             121.0\n",
       "3  Albania      Sorghum  1990        12500     16.37             121.0\n",
       "4  Albania     Soybeans  1990         7000     16.37             121.0"
      ]
     },
     "execution_count": 18,
     "metadata": {},
     "output_type": "execute_result"
    }
   ],
   "source": [
    "final_yield.head()"
   ]
  },
  {
   "cell_type": "code",
   "execution_count": 19,
   "metadata": {},
   "outputs": [],
   "source": [
    "rainfall.rename(columns = {' Area':'Area'}, inplace = True)\n",
    "final_yield = pd.merge(final_yield,rainfall,on=['Year','Area'])\n",
    "final_yield.rename(columns = {'average_rain_fall_mm_per_year':'average_rain'}, inplace = True)\n"
   ]
  },
  {
   "cell_type": "code",
   "execution_count": 20,
   "metadata": {},
   "outputs": [
    {
     "data": {
      "text/html": [
       "<div>\n",
       "<style scoped>\n",
       "    .dataframe tbody tr th:only-of-type {\n",
       "        vertical-align: middle;\n",
       "    }\n",
       "\n",
       "    .dataframe tbody tr th {\n",
       "        vertical-align: top;\n",
       "    }\n",
       "\n",
       "    .dataframe thead th {\n",
       "        text-align: right;\n",
       "    }\n",
       "</style>\n",
       "<table border=\"1\" class=\"dataframe\">\n",
       "  <thead>\n",
       "    <tr style=\"text-align: right;\">\n",
       "      <th></th>\n",
       "      <th>Area</th>\n",
       "      <th>Item</th>\n",
       "      <th>Year</th>\n",
       "      <th>Yield_Value</th>\n",
       "      <th>avg_temp</th>\n",
       "      <th>Pesticides_Value</th>\n",
       "      <th>average_rain</th>\n",
       "    </tr>\n",
       "  </thead>\n",
       "  <tbody>\n",
       "    <tr>\n",
       "      <th>0</th>\n",
       "      <td>Albania</td>\n",
       "      <td>Maize</td>\n",
       "      <td>1990</td>\n",
       "      <td>36613</td>\n",
       "      <td>16.37</td>\n",
       "      <td>121.0</td>\n",
       "      <td>1485</td>\n",
       "    </tr>\n",
       "    <tr>\n",
       "      <th>1</th>\n",
       "      <td>Albania</td>\n",
       "      <td>Potatoes</td>\n",
       "      <td>1990</td>\n",
       "      <td>66667</td>\n",
       "      <td>16.37</td>\n",
       "      <td>121.0</td>\n",
       "      <td>1485</td>\n",
       "    </tr>\n",
       "    <tr>\n",
       "      <th>2</th>\n",
       "      <td>Albania</td>\n",
       "      <td>Rice, paddy</td>\n",
       "      <td>1990</td>\n",
       "      <td>23333</td>\n",
       "      <td>16.37</td>\n",
       "      <td>121.0</td>\n",
       "      <td>1485</td>\n",
       "    </tr>\n",
       "    <tr>\n",
       "      <th>3</th>\n",
       "      <td>Albania</td>\n",
       "      <td>Sorghum</td>\n",
       "      <td>1990</td>\n",
       "      <td>12500</td>\n",
       "      <td>16.37</td>\n",
       "      <td>121.0</td>\n",
       "      <td>1485</td>\n",
       "    </tr>\n",
       "    <tr>\n",
       "      <th>4</th>\n",
       "      <td>Albania</td>\n",
       "      <td>Soybeans</td>\n",
       "      <td>1990</td>\n",
       "      <td>7000</td>\n",
       "      <td>16.37</td>\n",
       "      <td>121.0</td>\n",
       "      <td>1485</td>\n",
       "    </tr>\n",
       "  </tbody>\n",
       "</table>\n",
       "</div>"
      ],
      "text/plain": [
       "      Area         Item  Year  Yield_Value  avg_temp  Pesticides_Value  \\\n",
       "0  Albania        Maize  1990        36613     16.37             121.0   \n",
       "1  Albania     Potatoes  1990        66667     16.37             121.0   \n",
       "2  Albania  Rice, paddy  1990        23333     16.37             121.0   \n",
       "3  Albania      Sorghum  1990        12500     16.37             121.0   \n",
       "4  Albania     Soybeans  1990         7000     16.37             121.0   \n",
       "\n",
       "  average_rain  \n",
       "0         1485  \n",
       "1         1485  \n",
       "2         1485  \n",
       "3         1485  \n",
       "4         1485  "
      ]
     },
     "execution_count": 20,
     "metadata": {},
     "output_type": "execute_result"
    }
   ],
   "source": [
    "final_yield.head()"
   ]
  },
  {
   "cell_type": "code",
   "execution_count": 21,
   "metadata": {},
   "outputs": [],
   "source": [
    "Canada_final_yield = final_yield[final_yield['Area'] == 'Canada']"
   ]
  },
  {
   "cell_type": "code",
   "execution_count": 22,
   "metadata": {},
   "outputs": [
    {
     "data": {
      "text/html": [
       "<div>\n",
       "<style scoped>\n",
       "    .dataframe tbody tr th:only-of-type {\n",
       "        vertical-align: middle;\n",
       "    }\n",
       "\n",
       "    .dataframe tbody tr th {\n",
       "        vertical-align: top;\n",
       "    }\n",
       "\n",
       "    .dataframe thead th {\n",
       "        text-align: right;\n",
       "    }\n",
       "</style>\n",
       "<table border=\"1\" class=\"dataframe\">\n",
       "  <thead>\n",
       "    <tr style=\"text-align: right;\">\n",
       "      <th></th>\n",
       "      <th>Area</th>\n",
       "      <th>Item</th>\n",
       "      <th>Year</th>\n",
       "      <th>Yield_Value</th>\n",
       "      <th>avg_temp</th>\n",
       "      <th>Pesticides_Value</th>\n",
       "      <th>average_rain</th>\n",
       "    </tr>\n",
       "  </thead>\n",
       "  <tbody>\n",
       "    <tr>\n",
       "      <th>5584</th>\n",
       "      <td>Canada</td>\n",
       "      <td>Maize</td>\n",
       "      <td>1990</td>\n",
       "      <td>68602</td>\n",
       "      <td>8.20</td>\n",
       "      <td>29568.0</td>\n",
       "      <td>537</td>\n",
       "    </tr>\n",
       "    <tr>\n",
       "      <th>5585</th>\n",
       "      <td>Canada</td>\n",
       "      <td>Maize</td>\n",
       "      <td>1990</td>\n",
       "      <td>68602</td>\n",
       "      <td>9.48</td>\n",
       "      <td>29568.0</td>\n",
       "      <td>537</td>\n",
       "    </tr>\n",
       "    <tr>\n",
       "      <th>5586</th>\n",
       "      <td>Canada</td>\n",
       "      <td>Maize</td>\n",
       "      <td>1990</td>\n",
       "      <td>68602</td>\n",
       "      <td>6.07</td>\n",
       "      <td>29568.0</td>\n",
       "      <td>537</td>\n",
       "    </tr>\n",
       "    <tr>\n",
       "      <th>5587</th>\n",
       "      <td>Canada</td>\n",
       "      <td>Maize</td>\n",
       "      <td>1990</td>\n",
       "      <td>68602</td>\n",
       "      <td>5.57</td>\n",
       "      <td>29568.0</td>\n",
       "      <td>537</td>\n",
       "    </tr>\n",
       "    <tr>\n",
       "      <th>5588</th>\n",
       "      <td>Canada</td>\n",
       "      <td>Maize</td>\n",
       "      <td>1990</td>\n",
       "      <td>68602</td>\n",
       "      <td>7.41</td>\n",
       "      <td>29568.0</td>\n",
       "      <td>537</td>\n",
       "    </tr>\n",
       "  </tbody>\n",
       "</table>\n",
       "</div>"
      ],
      "text/plain": [
       "        Area   Item  Year  Yield_Value  avg_temp  Pesticides_Value  \\\n",
       "5584  Canada  Maize  1990        68602      8.20           29568.0   \n",
       "5585  Canada  Maize  1990        68602      9.48           29568.0   \n",
       "5586  Canada  Maize  1990        68602      6.07           29568.0   \n",
       "5587  Canada  Maize  1990        68602      5.57           29568.0   \n",
       "5588  Canada  Maize  1990        68602      7.41           29568.0   \n",
       "\n",
       "     average_rain  \n",
       "5584          537  \n",
       "5585          537  \n",
       "5586          537  \n",
       "5587          537  \n",
       "5588          537  "
      ]
     },
     "execution_count": 22,
     "metadata": {},
     "output_type": "execute_result"
    }
   ],
   "source": [
    "Canada_final_yield.head()"
   ]
  },
  {
   "cell_type": "code",
   "execution_count": 23,
   "metadata": {},
   "outputs": [
    {
     "data": {
      "text/plain": [
       "(552, 7)"
      ]
     },
     "execution_count": 23,
     "metadata": {},
     "output_type": "execute_result"
    }
   ],
   "source": [
    "Canada_final_yield.shape"
   ]
  },
  {
   "cell_type": "code",
   "execution_count": 24,
   "metadata": {},
   "outputs": [
    {
     "name": "stderr",
     "output_type": "stream",
     "text": [
      "C:\\Users\\hp\\AppData\\Local\\Temp\\ipykernel_15064\\4230618947.py:1: SettingWithCopyWarning: \n",
      "A value is trying to be set on a copy of a slice from a DataFrame.\n",
      "Try using .loc[row_indexer,col_indexer] = value instead\n",
      "\n",
      "See the caveats in the documentation: https://pandas.pydata.org/pandas-docs/stable/user_guide/indexing.html#returning-a-view-versus-a-copy\n",
      "  Canada_final_yield[\"average_rain\"] = pd.to_numeric(final_yield[\"average_rain\"], errors='coerce')\n"
     ]
    }
   ],
   "source": [
    "Canada_final_yield[\"average_rain\"] = pd.to_numeric(final_yield[\"average_rain\"], errors='coerce')"
   ]
  },
  {
   "cell_type": "code",
   "execution_count": 25,
   "metadata": {},
   "outputs": [
    {
     "name": "stdout",
     "output_type": "stream",
     "text": [
      "<class 'pandas.core.frame.DataFrame'>\n",
      "Index: 552 entries, 5584 to 6135\n",
      "Data columns (total 7 columns):\n",
      " #   Column            Non-Null Count  Dtype  \n",
      "---  ------            --------------  -----  \n",
      " 0   Area              552 non-null    object \n",
      " 1   Item              552 non-null    object \n",
      " 2   Year              552 non-null    int64  \n",
      " 3   Yield_Value       552 non-null    int64  \n",
      " 4   avg_temp          552 non-null    float64\n",
      " 5   Pesticides_Value  552 non-null    float64\n",
      " 6   average_rain      552 non-null    float64\n",
      "dtypes: float64(3), int64(2), object(2)\n",
      "memory usage: 34.5+ KB\n"
     ]
    }
   ],
   "source": [
    "Canada_final_yield=Canada_final_yield.dropna()\n",
    "Canada_final_yield.info()"
   ]
  },
  {
   "cell_type": "code",
   "execution_count": 26,
   "metadata": {},
   "outputs": [
    {
     "data": {
      "text/html": [
       "<div>\n",
       "<style scoped>\n",
       "    .dataframe tbody tr th:only-of-type {\n",
       "        vertical-align: middle;\n",
       "    }\n",
       "\n",
       "    .dataframe tbody tr th {\n",
       "        vertical-align: top;\n",
       "    }\n",
       "\n",
       "    .dataframe thead th {\n",
       "        text-align: right;\n",
       "    }\n",
       "</style>\n",
       "<table border=\"1\" class=\"dataframe\">\n",
       "  <thead>\n",
       "    <tr style=\"text-align: right;\">\n",
       "      <th></th>\n",
       "      <th>Area</th>\n",
       "      <th>Item</th>\n",
       "      <th>Year</th>\n",
       "      <th>Yield_Value</th>\n",
       "      <th>avg_temp</th>\n",
       "      <th>Pesticides_Value</th>\n",
       "      <th>average_rain</th>\n",
       "    </tr>\n",
       "  </thead>\n",
       "  <tbody>\n",
       "    <tr>\n",
       "      <th>5584</th>\n",
       "      <td>Canada</td>\n",
       "      <td>Maize</td>\n",
       "      <td>1990</td>\n",
       "      <td>68602</td>\n",
       "      <td>8.20</td>\n",
       "      <td>29568.0</td>\n",
       "      <td>537.0</td>\n",
       "    </tr>\n",
       "    <tr>\n",
       "      <th>5585</th>\n",
       "      <td>Canada</td>\n",
       "      <td>Maize</td>\n",
       "      <td>1990</td>\n",
       "      <td>68602</td>\n",
       "      <td>9.48</td>\n",
       "      <td>29568.0</td>\n",
       "      <td>537.0</td>\n",
       "    </tr>\n",
       "    <tr>\n",
       "      <th>5586</th>\n",
       "      <td>Canada</td>\n",
       "      <td>Maize</td>\n",
       "      <td>1990</td>\n",
       "      <td>68602</td>\n",
       "      <td>6.07</td>\n",
       "      <td>29568.0</td>\n",
       "      <td>537.0</td>\n",
       "    </tr>\n",
       "    <tr>\n",
       "      <th>5587</th>\n",
       "      <td>Canada</td>\n",
       "      <td>Maize</td>\n",
       "      <td>1990</td>\n",
       "      <td>68602</td>\n",
       "      <td>5.57</td>\n",
       "      <td>29568.0</td>\n",
       "      <td>537.0</td>\n",
       "    </tr>\n",
       "    <tr>\n",
       "      <th>5588</th>\n",
       "      <td>Canada</td>\n",
       "      <td>Maize</td>\n",
       "      <td>1990</td>\n",
       "      <td>68602</td>\n",
       "      <td>7.41</td>\n",
       "      <td>29568.0</td>\n",
       "      <td>537.0</td>\n",
       "    </tr>\n",
       "  </tbody>\n",
       "</table>\n",
       "</div>"
      ],
      "text/plain": [
       "        Area   Item  Year  Yield_Value  avg_temp  Pesticides_Value  \\\n",
       "5584  Canada  Maize  1990        68602      8.20           29568.0   \n",
       "5585  Canada  Maize  1990        68602      9.48           29568.0   \n",
       "5586  Canada  Maize  1990        68602      6.07           29568.0   \n",
       "5587  Canada  Maize  1990        68602      5.57           29568.0   \n",
       "5588  Canada  Maize  1990        68602      7.41           29568.0   \n",
       "\n",
       "      average_rain  \n",
       "5584         537.0  \n",
       "5585         537.0  \n",
       "5586         537.0  \n",
       "5587         537.0  \n",
       "5588         537.0  "
      ]
     },
     "execution_count": 26,
     "metadata": {},
     "output_type": "execute_result"
    }
   ],
   "source": [
    "Canada_final_yield.head()"
   ]
  },
  {
   "cell_type": "code",
   "execution_count": 27,
   "metadata": {},
   "outputs": [
    {
     "data": {
      "text/html": [
       "<div>\n",
       "<style scoped>\n",
       "    .dataframe tbody tr th:only-of-type {\n",
       "        vertical-align: middle;\n",
       "    }\n",
       "\n",
       "    .dataframe tbody tr th {\n",
       "        vertical-align: top;\n",
       "    }\n",
       "\n",
       "    .dataframe thead th {\n",
       "        text-align: right;\n",
       "    }\n",
       "</style>\n",
       "<table border=\"1\" class=\"dataframe\">\n",
       "  <thead>\n",
       "    <tr style=\"text-align: right;\">\n",
       "      <th></th>\n",
       "      <th>Year</th>\n",
       "      <th>Yield_Value</th>\n",
       "      <th>avg_temp</th>\n",
       "      <th>Pesticides_Value</th>\n",
       "      <th>average_rain</th>\n",
       "    </tr>\n",
       "  </thead>\n",
       "  <tbody>\n",
       "    <tr>\n",
       "      <th>count</th>\n",
       "      <td>552.000000</td>\n",
       "      <td>552.000000</td>\n",
       "      <td>552.000000</td>\n",
       "      <td>552.000000</td>\n",
       "      <td>552.0</td>\n",
       "    </tr>\n",
       "    <tr>\n",
       "      <th>mean</th>\n",
       "      <td>2001.434783</td>\n",
       "      <td>62874.858696</td>\n",
       "      <td>7.191884</td>\n",
       "      <td>43102.233913</td>\n",
       "      <td>537.0</td>\n",
       "    </tr>\n",
       "    <tr>\n",
       "      <th>std</th>\n",
       "      <td>7.070253</td>\n",
       "      <td>43611.515875</td>\n",
       "      <td>1.549169</td>\n",
       "      <td>14367.963077</td>\n",
       "      <td>0.0</td>\n",
       "    </tr>\n",
       "    <tr>\n",
       "      <th>min</th>\n",
       "      <td>1990.000000</td>\n",
       "      <td>15298.000000</td>\n",
       "      <td>3.690000</td>\n",
       "      <td>29206.000000</td>\n",
       "      <td>537.0</td>\n",
       "    </tr>\n",
       "    <tr>\n",
       "      <th>25%</th>\n",
       "      <td>1995.000000</td>\n",
       "      <td>25963.000000</td>\n",
       "      <td>6.010000</td>\n",
       "      <td>32223.400000</td>\n",
       "      <td>537.0</td>\n",
       "    </tr>\n",
       "    <tr>\n",
       "      <th>50%</th>\n",
       "      <td>2001.000000</td>\n",
       "      <td>46435.000000</td>\n",
       "      <td>7.300000</td>\n",
       "      <td>38258.200000</td>\n",
       "      <td>537.0</td>\n",
       "    </tr>\n",
       "    <tr>\n",
       "      <th>75%</th>\n",
       "      <td>2008.000000</td>\n",
       "      <td>96824.000000</td>\n",
       "      <td>8.330000</td>\n",
       "      <td>53707.300000</td>\n",
       "      <td>537.0</td>\n",
       "    </tr>\n",
       "    <tr>\n",
       "      <th>max</th>\n",
       "      <td>2013.000000</td>\n",
       "      <td>250994.000000</td>\n",
       "      <td>10.600000</td>\n",
       "      <td>81659.800000</td>\n",
       "      <td>537.0</td>\n",
       "    </tr>\n",
       "  </tbody>\n",
       "</table>\n",
       "</div>"
      ],
      "text/plain": [
       "              Year    Yield_Value    avg_temp  Pesticides_Value  average_rain\n",
       "count   552.000000     552.000000  552.000000        552.000000         552.0\n",
       "mean   2001.434783   62874.858696    7.191884      43102.233913         537.0\n",
       "std       7.070253   43611.515875    1.549169      14367.963077           0.0\n",
       "min    1990.000000   15298.000000    3.690000      29206.000000         537.0\n",
       "25%    1995.000000   25963.000000    6.010000      32223.400000         537.0\n",
       "50%    2001.000000   46435.000000    7.300000      38258.200000         537.0\n",
       "75%    2008.000000   96824.000000    8.330000      53707.300000         537.0\n",
       "max    2013.000000  250994.000000   10.600000      81659.800000         537.0"
      ]
     },
     "execution_count": 27,
     "metadata": {},
     "output_type": "execute_result"
    }
   ],
   "source": [
    "Canada_final_yield.describe()"
   ]
  },
  {
   "cell_type": "code",
   "execution_count": 28,
   "metadata": {},
   "outputs": [],
   "source": [
    "Canada_final_yield=Canada_final_yield.drop('Year',axis=1)"
   ]
  },
  {
   "cell_type": "code",
   "execution_count": 29,
   "metadata": {},
   "outputs": [
    {
     "data": {
      "text/plain": [
       "Item\n",
       "Maize       138\n",
       "Potatoes    138\n",
       "Soybeans    138\n",
       "Wheat       138\n",
       "Name: count, dtype: int64"
      ]
     },
     "execution_count": 29,
     "metadata": {},
     "output_type": "execute_result"
    }
   ],
   "source": [
    "Canada_final_yield['Item'].value_counts()"
   ]
  },
  {
   "cell_type": "code",
   "execution_count": 30,
   "metadata": {},
   "outputs": [
    {
     "data": {
      "image/png": "[encoded data removed]",
      "text/plain": [
       "<Figure size 2000x1500 with 4 Axes>"
      ]
     },
     "metadata": {},
     "output_type": "display_data"
    }
   ],
   "source": [
    "Canada_final_yield.hist(bins = 25,figsize=(20,15));"
   ]
  },
  {
   "cell_type": "code",
   "execution_count": 31,
   "metadata": {},
   "outputs": [
    {
     "data": {
      "image/png": "[encoded data removed]",
      "text/plain": [
       "<Figure size 500x300 with 1 Axes>"
      ]
     },
     "metadata": {},
     "output_type": "display_data"
    }
   ],
   "source": [
    "Canada_final_yield['Pesticides_log']= np.log(Canada_final_yield['Pesticides_Value'])\n",
    "Canada_final_yield['Pesticides_log'].hist(bins = 25,figsize=(5,3));"
   ]
  },
  {
   "cell_type": "code",
   "execution_count": 32,
   "metadata": {},
   "outputs": [],
   "source": [
    "Canada_final_yield[\"Yield_Value_Cat\"] = pd.cut(Canada_final_yield[\"Yield_Value\"],\n",
    " bins=[0.,30000, 100000,250000, 350000.,np.inf],\n",
    " labels=[1, 2, 3, 4, 5])"
   ]
  },
  {
   "cell_type": "code",
   "execution_count": 33,
   "metadata": {},
   "outputs": [
    {
     "data": {
      "text/html": [
       "<div>\n",
       "<style scoped>\n",
       "    .dataframe tbody tr th:only-of-type {\n",
       "        vertical-align: middle;\n",
       "    }\n",
       "\n",
       "    .dataframe tbody tr th {\n",
       "        vertical-align: top;\n",
       "    }\n",
       "\n",
       "    .dataframe thead th {\n",
       "        text-align: right;\n",
       "    }\n",
       "</style>\n",
       "<table border=\"1\" class=\"dataframe\">\n",
       "  <thead>\n",
       "    <tr style=\"text-align: right;\">\n",
       "      <th></th>\n",
       "      <th>Area</th>\n",
       "      <th>Item</th>\n",
       "      <th>Yield_Value</th>\n",
       "      <th>avg_temp</th>\n",
       "      <th>Pesticides_Value</th>\n",
       "      <th>average_rain</th>\n",
       "      <th>Pesticides_log</th>\n",
       "      <th>Yield_Value_Cat</th>\n",
       "    </tr>\n",
       "  </thead>\n",
       "  <tbody>\n",
       "    <tr>\n",
       "      <th>5584</th>\n",
       "      <td>Canada</td>\n",
       "      <td>Maize</td>\n",
       "      <td>68602</td>\n",
       "      <td>8.20</td>\n",
       "      <td>29568.0</td>\n",
       "      <td>537.0</td>\n",
       "      <td>10.294448</td>\n",
       "      <td>2</td>\n",
       "    </tr>\n",
       "    <tr>\n",
       "      <th>5585</th>\n",
       "      <td>Canada</td>\n",
       "      <td>Maize</td>\n",
       "      <td>68602</td>\n",
       "      <td>9.48</td>\n",
       "      <td>29568.0</td>\n",
       "      <td>537.0</td>\n",
       "      <td>10.294448</td>\n",
       "      <td>2</td>\n",
       "    </tr>\n",
       "    <tr>\n",
       "      <th>5586</th>\n",
       "      <td>Canada</td>\n",
       "      <td>Maize</td>\n",
       "      <td>68602</td>\n",
       "      <td>6.07</td>\n",
       "      <td>29568.0</td>\n",
       "      <td>537.0</td>\n",
       "      <td>10.294448</td>\n",
       "      <td>2</td>\n",
       "    </tr>\n",
       "    <tr>\n",
       "      <th>5587</th>\n",
       "      <td>Canada</td>\n",
       "      <td>Maize</td>\n",
       "      <td>68602</td>\n",
       "      <td>5.57</td>\n",
       "      <td>29568.0</td>\n",
       "      <td>537.0</td>\n",
       "      <td>10.294448</td>\n",
       "      <td>2</td>\n",
       "    </tr>\n",
       "    <tr>\n",
       "      <th>5588</th>\n",
       "      <td>Canada</td>\n",
       "      <td>Maize</td>\n",
       "      <td>68602</td>\n",
       "      <td>7.41</td>\n",
       "      <td>29568.0</td>\n",
       "      <td>537.0</td>\n",
       "      <td>10.294448</td>\n",
       "      <td>2</td>\n",
       "    </tr>\n",
       "  </tbody>\n",
       "</table>\n",
       "</div>"
      ],
      "text/plain": [
       "        Area   Item  Yield_Value  avg_temp  Pesticides_Value  average_rain  \\\n",
       "5584  Canada  Maize        68602      8.20           29568.0         537.0   \n",
       "5585  Canada  Maize        68602      9.48           29568.0         537.0   \n",
       "5586  Canada  Maize        68602      6.07           29568.0         537.0   \n",
       "5587  Canada  Maize        68602      5.57           29568.0         537.0   \n",
       "5588  Canada  Maize        68602      7.41           29568.0         537.0   \n",
       "\n",
       "      Pesticides_log Yield_Value_Cat  \n",
       "5584       10.294448               2  \n",
       "5585       10.294448               2  \n",
       "5586       10.294448               2  \n",
       "5587       10.294448               2  \n",
       "5588       10.294448               2  "
      ]
     },
     "execution_count": 33,
     "metadata": {},
     "output_type": "execute_result"
    }
   ],
   "source": [
    "Canada_final_yield.head()"
   ]
  },
  {
   "cell_type": "code",
   "execution_count": 34,
   "metadata": {},
   "outputs": [
    {
     "data": {
      "text/plain": [
       "Yield_Value_Cat\n",
       "1    264\n",
       "2    156\n",
       "3    126\n",
       "4      6\n",
       "5      0\n",
       "Name: count, dtype: int64"
      ]
     },
     "execution_count": 34,
     "metadata": {},
     "output_type": "execute_result"
    }
   ],
   "source": [
    "Canada_final_yield[\"Yield_Value_Cat\"].value_counts()"
   ]
  },
  {
   "cell_type": "code",
   "execution_count": 35,
   "metadata": {},
   "outputs": [],
   "source": [
    "Canada_final_yield.drop(['Yield_Value','Area'],axis=1,inplace=True)"
   ]
  },
  {
   "cell_type": "code",
   "execution_count": 36,
   "metadata": {},
   "outputs": [
    {
     "data": {
      "text/html": [
       "<div>\n",
       "<style scoped>\n",
       "    .dataframe tbody tr th:only-of-type {\n",
       "        vertical-align: middle;\n",
       "    }\n",
       "\n",
       "    .dataframe tbody tr th {\n",
       "        vertical-align: top;\n",
       "    }\n",
       "\n",
       "    .dataframe thead th {\n",
       "        text-align: right;\n",
       "    }\n",
       "</style>\n",
       "<table border=\"1\" class=\"dataframe\">\n",
       "  <thead>\n",
       "    <tr style=\"text-align: right;\">\n",
       "      <th></th>\n",
       "      <th>Item</th>\n",
       "      <th>avg_temp</th>\n",
       "      <th>Pesticides_Value</th>\n",
       "      <th>average_rain</th>\n",
       "      <th>Pesticides_log</th>\n",
       "      <th>Yield_Value_Cat</th>\n",
       "    </tr>\n",
       "  </thead>\n",
       "  <tbody>\n",
       "    <tr>\n",
       "      <th>5584</th>\n",
       "      <td>Maize</td>\n",
       "      <td>8.20</td>\n",
       "      <td>29568.0</td>\n",
       "      <td>537.0</td>\n",
       "      <td>10.294448</td>\n",
       "      <td>2</td>\n",
       "    </tr>\n",
       "    <tr>\n",
       "      <th>5585</th>\n",
       "      <td>Maize</td>\n",
       "      <td>9.48</td>\n",
       "      <td>29568.0</td>\n",
       "      <td>537.0</td>\n",
       "      <td>10.294448</td>\n",
       "      <td>2</td>\n",
       "    </tr>\n",
       "    <tr>\n",
       "      <th>5586</th>\n",
       "      <td>Maize</td>\n",
       "      <td>6.07</td>\n",
       "      <td>29568.0</td>\n",
       "      <td>537.0</td>\n",
       "      <td>10.294448</td>\n",
       "      <td>2</td>\n",
       "    </tr>\n",
       "    <tr>\n",
       "      <th>5587</th>\n",
       "      <td>Maize</td>\n",
       "      <td>5.57</td>\n",
       "      <td>29568.0</td>\n",
       "      <td>537.0</td>\n",
       "      <td>10.294448</td>\n",
       "      <td>2</td>\n",
       "    </tr>\n",
       "    <tr>\n",
       "      <th>5588</th>\n",
       "      <td>Maize</td>\n",
       "      <td>7.41</td>\n",
       "      <td>29568.0</td>\n",
       "      <td>537.0</td>\n",
       "      <td>10.294448</td>\n",
       "      <td>2</td>\n",
       "    </tr>\n",
       "  </tbody>\n",
       "</table>\n",
       "</div>"
      ],
      "text/plain": [
       "       Item  avg_temp  Pesticides_Value  average_rain  Pesticides_log  \\\n",
       "5584  Maize      8.20           29568.0         537.0       10.294448   \n",
       "5585  Maize      9.48           29568.0         537.0       10.294448   \n",
       "5586  Maize      6.07           29568.0         537.0       10.294448   \n",
       "5587  Maize      5.57           29568.0         537.0       10.294448   \n",
       "5588  Maize      7.41           29568.0         537.0       10.294448   \n",
       "\n",
       "     Yield_Value_Cat  \n",
       "5584               2  \n",
       "5585               2  \n",
       "5586               2  \n",
       "5587               2  \n",
       "5588               2  "
      ]
     },
     "execution_count": 36,
     "metadata": {},
     "output_type": "execute_result"
    }
   ],
   "source": [
    "Canada_final_yield.head()"
   ]
  },
  {
   "cell_type": "code",
   "execution_count": 37,
   "metadata": {},
   "outputs": [],
   "source": [
    "le = LabelEncoder()\n",
    "Canada_final_yield['Item'] = le.fit_transform(Canada_final_yield['Item'])"
   ]
  },
  {
   "cell_type": "code",
   "execution_count": 38,
   "metadata": {},
   "outputs": [
    {
     "data": {
      "text/html": [
       "<div>\n",
       "<style scoped>\n",
       "    .dataframe tbody tr th:only-of-type {\n",
       "        vertical-align: middle;\n",
       "    }\n",
       "\n",
       "    .dataframe tbody tr th {\n",
       "        vertical-align: top;\n",
       "    }\n",
       "\n",
       "    .dataframe thead th {\n",
       "        text-align: right;\n",
       "    }\n",
       "</style>\n",
       "<table border=\"1\" class=\"dataframe\">\n",
       "  <thead>\n",
       "    <tr style=\"text-align: right;\">\n",
       "      <th></th>\n",
       "      <th>Item</th>\n",
       "      <th>avg_temp</th>\n",
       "      <th>Pesticides_Value</th>\n",
       "      <th>average_rain</th>\n",
       "      <th>Pesticides_log</th>\n",
       "      <th>Yield_Value_Cat</th>\n",
       "    </tr>\n",
       "  </thead>\n",
       "  <tbody>\n",
       "    <tr>\n",
       "      <th>5584</th>\n",
       "      <td>0</td>\n",
       "      <td>8.20</td>\n",
       "      <td>29568.0</td>\n",
       "      <td>537.0</td>\n",
       "      <td>10.294448</td>\n",
       "      <td>2</td>\n",
       "    </tr>\n",
       "    <tr>\n",
       "      <th>5585</th>\n",
       "      <td>0</td>\n",
       "      <td>9.48</td>\n",
       "      <td>29568.0</td>\n",
       "      <td>537.0</td>\n",
       "      <td>10.294448</td>\n",
       "      <td>2</td>\n",
       "    </tr>\n",
       "    <tr>\n",
       "      <th>5586</th>\n",
       "      <td>0</td>\n",
       "      <td>6.07</td>\n",
       "      <td>29568.0</td>\n",
       "      <td>537.0</td>\n",
       "      <td>10.294448</td>\n",
       "      <td>2</td>\n",
       "    </tr>\n",
       "    <tr>\n",
       "      <th>5587</th>\n",
       "      <td>0</td>\n",
       "      <td>5.57</td>\n",
       "      <td>29568.0</td>\n",
       "      <td>537.0</td>\n",
       "      <td>10.294448</td>\n",
       "      <td>2</td>\n",
       "    </tr>\n",
       "    <tr>\n",
       "      <th>5588</th>\n",
       "      <td>0</td>\n",
       "      <td>7.41</td>\n",
       "      <td>29568.0</td>\n",
       "      <td>537.0</td>\n",
       "      <td>10.294448</td>\n",
       "      <td>2</td>\n",
       "    </tr>\n",
       "  </tbody>\n",
       "</table>\n",
       "</div>"
      ],
      "text/plain": [
       "      Item  avg_temp  Pesticides_Value  average_rain  Pesticides_log  \\\n",
       "5584     0      8.20           29568.0         537.0       10.294448   \n",
       "5585     0      9.48           29568.0         537.0       10.294448   \n",
       "5586     0      6.07           29568.0         537.0       10.294448   \n",
       "5587     0      5.57           29568.0         537.0       10.294448   \n",
       "5588     0      7.41           29568.0         537.0       10.294448   \n",
       "\n",
       "     Yield_Value_Cat  \n",
       "5584               2  \n",
       "5585               2  \n",
       "5586               2  \n",
       "5587               2  \n",
       "5588               2  "
      ]
     },
     "execution_count": 38,
     "metadata": {},
     "output_type": "execute_result"
    }
   ],
   "source": [
    "Canada_final_yield.head()"
   ]
  },
  {
   "cell_type": "code",
   "execution_count": 39,
   "metadata": {},
   "outputs": [],
   "source": [
    "X = Canada_final_yield.drop(\"Yield_Value_Cat\", axis=1)\n",
    "Y = Canada_final_yield[\"Yield_Value_Cat\"]"
   ]
  },
  {
   "cell_type": "code",
   "execution_count": 40,
   "metadata": {},
   "outputs": [
    {
     "data": {
      "text/html": [
       "<div>\n",
       "<style scoped>\n",
       "    .dataframe tbody tr th:only-of-type {\n",
       "        vertical-align: middle;\n",
       "    }\n",
       "\n",
       "    .dataframe tbody tr th {\n",
       "        vertical-align: top;\n",
       "    }\n",
       "\n",
       "    .dataframe thead th {\n",
       "        text-align: right;\n",
       "    }\n",
       "</style>\n",
       "<table border=\"1\" class=\"dataframe\">\n",
       "  <thead>\n",
       "    <tr style=\"text-align: right;\">\n",
       "      <th></th>\n",
       "      <th>Item</th>\n",
       "      <th>avg_temp</th>\n",
       "      <th>Pesticides_Value</th>\n",
       "      <th>average_rain</th>\n",
       "      <th>Pesticides_log</th>\n",
       "    </tr>\n",
       "  </thead>\n",
       "  <tbody>\n",
       "    <tr>\n",
       "      <th>5584</th>\n",
       "      <td>0</td>\n",
       "      <td>8.20</td>\n",
       "      <td>29568.0</td>\n",
       "      <td>537.0</td>\n",
       "      <td>10.294448</td>\n",
       "    </tr>\n",
       "    <tr>\n",
       "      <th>5585</th>\n",
       "      <td>0</td>\n",
       "      <td>9.48</td>\n",
       "      <td>29568.0</td>\n",
       "      <td>537.0</td>\n",
       "      <td>10.294448</td>\n",
       "    </tr>\n",
       "    <tr>\n",
       "      <th>5586</th>\n",
       "      <td>0</td>\n",
       "      <td>6.07</td>\n",
       "      <td>29568.0</td>\n",
       "      <td>537.0</td>\n",
       "      <td>10.294448</td>\n",
       "    </tr>\n",
       "    <tr>\n",
       "      <th>5587</th>\n",
       "      <td>0</td>\n",
       "      <td>5.57</td>\n",
       "      <td>29568.0</td>\n",
       "      <td>537.0</td>\n",
       "      <td>10.294448</td>\n",
       "    </tr>\n",
       "    <tr>\n",
       "      <th>5588</th>\n",
       "      <td>0</td>\n",
       "      <td>7.41</td>\n",
       "      <td>29568.0</td>\n",
       "      <td>537.0</td>\n",
       "      <td>10.294448</td>\n",
       "    </tr>\n",
       "    <tr>\n",
       "      <th>...</th>\n",
       "      <td>...</td>\n",
       "      <td>...</td>\n",
       "      <td>...</td>\n",
       "      <td>...</td>\n",
       "      <td>...</td>\n",
       "    </tr>\n",
       "    <tr>\n",
       "      <th>6131</th>\n",
       "      <td>3</td>\n",
       "      <td>10.11</td>\n",
       "      <td>81659.8</td>\n",
       "      <td>537.0</td>\n",
       "      <td>11.310317</td>\n",
       "    </tr>\n",
       "    <tr>\n",
       "      <th>6132</th>\n",
       "      <td>3</td>\n",
       "      <td>7.86</td>\n",
       "      <td>81659.8</td>\n",
       "      <td>537.0</td>\n",
       "      <td>11.310317</td>\n",
       "    </tr>\n",
       "    <tr>\n",
       "      <th>6133</th>\n",
       "      <td>3</td>\n",
       "      <td>7.08</td>\n",
       "      <td>81659.8</td>\n",
       "      <td>537.0</td>\n",
       "      <td>11.310317</td>\n",
       "    </tr>\n",
       "    <tr>\n",
       "      <th>6134</th>\n",
       "      <td>3</td>\n",
       "      <td>8.46</td>\n",
       "      <td>81659.8</td>\n",
       "      <td>537.0</td>\n",
       "      <td>11.310317</td>\n",
       "    </tr>\n",
       "    <tr>\n",
       "      <th>6135</th>\n",
       "      <td>3</td>\n",
       "      <td>9.85</td>\n",
       "      <td>81659.8</td>\n",
       "      <td>537.0</td>\n",
       "      <td>11.310317</td>\n",
       "    </tr>\n",
       "  </tbody>\n",
       "</table>\n",
       "<p>552 rows × 5 columns</p>\n",
       "</div>"
      ],
      "text/plain": [
       "      Item  avg_temp  Pesticides_Value  average_rain  Pesticides_log\n",
       "5584     0      8.20           29568.0         537.0       10.294448\n",
       "5585     0      9.48           29568.0         537.0       10.294448\n",
       "5586     0      6.07           29568.0         537.0       10.294448\n",
       "5587     0      5.57           29568.0         537.0       10.294448\n",
       "5588     0      7.41           29568.0         537.0       10.294448\n",
       "...    ...       ...               ...           ...             ...\n",
       "6131     3     10.11           81659.8         537.0       11.310317\n",
       "6132     3      7.86           81659.8         537.0       11.310317\n",
       "6133     3      7.08           81659.8         537.0       11.310317\n",
       "6134     3      8.46           81659.8         537.0       11.310317\n",
       "6135     3      9.85           81659.8         537.0       11.310317\n",
       "\n",
       "[552 rows x 5 columns]"
      ]
     },
     "execution_count": 40,
     "metadata": {},
     "output_type": "execute_result"
    }
   ],
   "source": [
    "X"
   ]
  },
  {
   "cell_type": "code",
   "execution_count": 41,
   "metadata": {},
   "outputs": [
    {
     "data": {
      "text/plain": [
       "5584    2\n",
       "5585    2\n",
       "5586    2\n",
       "5587    2\n",
       "5588    2\n",
       "       ..\n",
       "6131    2\n",
       "6132    2\n",
       "6133    2\n",
       "6134    2\n",
       "6135    2\n",
       "Name: Yield_Value_Cat, Length: 552, dtype: category\n",
       "Categories (5, int64): [1 < 2 < 3 < 4 < 5]"
      ]
     },
     "execution_count": 41,
     "metadata": {},
     "output_type": "execute_result"
    }
   ],
   "source": [
    "Y"
   ]
  },
  {
   "cell_type": "code",
   "execution_count": 42,
   "metadata": {},
   "outputs": [],
   "source": [
    "X_train, X_test, y_train, y_test= train_test_split(X,Y, test_size=0.1,random_state=1812)"
   ]
  },
  {
   "cell_type": "code",
   "execution_count": 43,
   "metadata": {},
   "outputs": [],
   "source": [
    "std_scaler = StandardScaler()\n",
    "X_train_sc = std_scaler.fit_transform(X_train)"
   ]
  },
  {
   "cell_type": "code",
   "execution_count": 44,
   "metadata": {},
   "outputs": [],
   "source": [
    "X_test_sc = std_scaler.transform(X_test)"
   ]
  },
  {
   "cell_type": "code",
   "execution_count": 45,
   "metadata": {},
   "outputs": [
    {
     "name": "stdout",
     "output_type": "stream",
     "text": [
      "The accuracy of the Linear Regression Model Train is 42.17\n",
      "The accuracy of the  Linear Regression Model Test is 43.09\n"
     ]
    },
    {
     "data": {
      "image/png": "[encoded data removed]",
      "text/plain": [
       "<Figure size 640x480 with 1 Axes>"
      ]
     },
     "metadata": {},
     "output_type": "display_data"
    },
    {
     "name": "stdout",
     "output_type": "stream",
     "text": [
      "The accuracy of the Random Forest Model Train is 99.84\n",
      "The accuracy of the  Random Forest Model Test is 99.46\n"
     ]
    },
    {
     "data": {
      "image/png": "[encoded data removed]",
      "text/plain": [
       "<Figure size 640x480 with 1 Axes>"
      ]
     },
     "metadata": {},
     "output_type": "display_data"
    },
    {
     "name": "stdout",
     "output_type": "stream",
     "text": [
      "The accuracy of the Gradient Boost Model Train is 99.30\n",
      "The accuracy of the  Gradient Boost Model Test is 99.75\n"
     ]
    },
    {
     "data": {
      "image/png": "[encoded data removed]",
      "text/plain": [
       "<Figure size 640x480 with 1 Axes>"
      ]
     },
     "metadata": {},
     "output_type": "display_data"
    },
    {
     "name": "stdout",
     "output_type": "stream",
     "text": [
      "The accuracy of the XGBoost Model Train is 99.71\n",
      "The accuracy of the  XGBoost Model Test is 97.39\n"
     ]
    },
    {
     "data": {
      "image/png": "[encoded data removed]",
      "text/plain": [
       "<Figure size 640x480 with 1 Axes>"
      ]
     },
     "metadata": {},
     "output_type": "display_data"
    },
    {
     "name": "stdout",
     "output_type": "stream",
     "text": [
      "The accuracy of the KNN Model Train is 94.83\n",
      "The accuracy of the  KNN Model Test is 98.95\n"
     ]
    },
    {
     "data": {
      "image/png": "[encoded data removed]",
      "text/plain": [
       "<Figure size 640x480 with 1 Axes>"
      ]
     },
     "metadata": {},
     "output_type": "display_data"
    },
    {
     "name": "stdout",
     "output_type": "stream",
     "text": [
      "The accuracy of the Decision Tree Model Train is 100.00\n",
      "The accuracy of the  Decision Tree Model Test is 97.37\n"
     ]
    },
    {
     "data": {
      "image/png": "[encoded data removed]",
      "text/plain": [
       "<Figure size 640x480 with 1 Axes>"
      ]
     },
     "metadata": {},
     "output_type": "display_data"
    },
    {
     "name": "stdout",
     "output_type": "stream",
     "text": [
      "The accuracy of the Bagging Regressor Model Train is 99.85\n",
      "The accuracy of the  Bagging Regressor Model Test is 99.52\n"
     ]
    },
    {
     "data": {
      "image/png": "[encoded data removed]",
      "text/plain": [
       "<Figure size 640x480 with 1 Axes>"
      ]
     },
     "metadata": {},
     "output_type": "display_data"
    },
    {
     "data": {
      "text/html": [
       "<style type=\"text/css\">\n",
       "#T_3ff1c_row0_col1, #T_3ff1c_row0_col2, #T_3ff1c_row0_col3 {\n",
       "  background-color: red;\n",
       "}\n",
       "#T_3ff1c_row2_col1, #T_3ff1c_row2_col2, #T_3ff1c_row2_col3 {\n",
       "  background-color: green;\n",
       "}\n",
       "</style>\n",
       "<table id=\"T_3ff1c\">\n",
       "  <thead>\n",
       "    <tr>\n",
       "      <th class=\"blank level0\" >&nbsp;</th>\n",
       "      <th id=\"T_3ff1c_level0_col0\" class=\"col_heading level0 col0\" >Model</th>\n",
       "      <th id=\"T_3ff1c_level0_col1\" class=\"col_heading level0 col1\" >Accuracy</th>\n",
       "      <th id=\"T_3ff1c_level0_col2\" class=\"col_heading level0 col2\" >MSE</th>\n",
       "      <th id=\"T_3ff1c_level0_col3\" class=\"col_heading level0 col3\" >R2_score</th>\n",
       "    </tr>\n",
       "  </thead>\n",
       "  <tbody>\n",
       "    <tr>\n",
       "      <th id=\"T_3ff1c_level0_row0\" class=\"row_heading level0 row0\" >0</th>\n",
       "      <td id=\"T_3ff1c_row0_col0\" class=\"data row0 col0\" >Linear Regression</td>\n",
       "      <td id=\"T_3ff1c_row0_col1\" class=\"data row0 col1\" >0.430936</td>\n",
       "      <td id=\"T_3ff1c_row0_col2\" class=\"data row0 col2\" >0.385969</td>\n",
       "      <td id=\"T_3ff1c_row0_col3\" class=\"data row0 col3\" >0.430936</td>\n",
       "    </tr>\n",
       "    <tr>\n",
       "      <th id=\"T_3ff1c_level0_row1\" class=\"row_heading level0 row1\" >1</th>\n",
       "      <td id=\"T_3ff1c_row1_col0\" class=\"data row1 col0\" >Random Forest</td>\n",
       "      <td id=\"T_3ff1c_row1_col1\" class=\"data row1 col1\" >0.994621</td>\n",
       "      <td id=\"T_3ff1c_row1_col2\" class=\"data row1 col2\" >0.003648</td>\n",
       "      <td id=\"T_3ff1c_row1_col3\" class=\"data row1 col3\" >0.994621</td>\n",
       "    </tr>\n",
       "    <tr>\n",
       "      <th id=\"T_3ff1c_level0_row2\" class=\"row_heading level0 row2\" >2</th>\n",
       "      <td id=\"T_3ff1c_row2_col0\" class=\"data row2 col0\" >Gradient Boost</td>\n",
       "      <td id=\"T_3ff1c_row2_col1\" class=\"data row2 col1\" >0.997538</td>\n",
       "      <td id=\"T_3ff1c_row2_col2\" class=\"data row2 col2\" >0.001670</td>\n",
       "      <td id=\"T_3ff1c_row2_col3\" class=\"data row2 col3\" >0.997538</td>\n",
       "    </tr>\n",
       "    <tr>\n",
       "      <th id=\"T_3ff1c_level0_row3\" class=\"row_heading level0 row3\" >3</th>\n",
       "      <td id=\"T_3ff1c_row3_col0\" class=\"data row3 col0\" >XGBoost</td>\n",
       "      <td id=\"T_3ff1c_row3_col1\" class=\"data row3 col1\" >0.973860</td>\n",
       "      <td id=\"T_3ff1c_row3_col2\" class=\"data row3 col2\" >0.017730</td>\n",
       "      <td id=\"T_3ff1c_row3_col3\" class=\"data row3 col3\" >0.973860</td>\n",
       "    </tr>\n",
       "    <tr>\n",
       "      <th id=\"T_3ff1c_level0_row4\" class=\"row_heading level0 row4\" >4</th>\n",
       "      <td id=\"T_3ff1c_row4_col0\" class=\"data row4 col0\" >KNN</td>\n",
       "      <td id=\"T_3ff1c_row4_col1\" class=\"data row4 col1\" >0.989469</td>\n",
       "      <td id=\"T_3ff1c_row4_col2\" class=\"data row4 col2\" >0.007143</td>\n",
       "      <td id=\"T_3ff1c_row4_col3\" class=\"data row4 col3\" >0.989469</td>\n",
       "    </tr>\n",
       "    <tr>\n",
       "      <th id=\"T_3ff1c_level0_row5\" class=\"row_heading level0 row5\" >5</th>\n",
       "      <td id=\"T_3ff1c_row5_col0\" class=\"data row5 col0\" >Decision Tree</td>\n",
       "      <td id=\"T_3ff1c_row5_col1\" class=\"data row5 col1\" >0.973672</td>\n",
       "      <td id=\"T_3ff1c_row5_col2\" class=\"data row5 col2\" >0.017857</td>\n",
       "      <td id=\"T_3ff1c_row5_col3\" class=\"data row5 col3\" >0.973672</td>\n",
       "    </tr>\n",
       "    <tr>\n",
       "      <th id=\"T_3ff1c_level0_row6\" class=\"row_heading level0 row6\" >6</th>\n",
       "      <td id=\"T_3ff1c_row6_col0\" class=\"data row6 col0\" >Bagging Regressor</td>\n",
       "      <td id=\"T_3ff1c_row6_col1\" class=\"data row6 col1\" >0.995192</td>\n",
       "      <td id=\"T_3ff1c_row6_col2\" class=\"data row6 col2\" >0.003261</td>\n",
       "      <td id=\"T_3ff1c_row6_col3\" class=\"data row6 col3\" >0.995192</td>\n",
       "    </tr>\n",
       "  </tbody>\n",
       "</table>\n"
      ],
      "text/plain": [
       "<pandas.io.formats.style.Styler at 0x2804eb033b0>"
      ]
     },
     "metadata": {},
     "output_type": "display_data"
    }
   ],
   "source": [
    "results = []\n",
    "\n",
    "models = [\n",
    "    ('Linear Regression', LinearRegression()),\n",
    "    ('Random Forest', RandomForestRegressor(random_state=1812)),\n",
    "    ('Gradient Boost', GradientBoostingRegressor(n_estimators=100, learning_rate=0.1, max_depth=3,random_state=42)),\n",
    "    ('XGBoost', XGBRegressor(random_state=1812)),\n",
    "    ('KNN',KNeighborsRegressor(n_neighbors=5)),\n",
    "    ('Decision Tree',DecisionTreeRegressor(random_state=1812)),\n",
    "    ('Bagging Regressor',BaggingRegressor(n_estimators=150, random_state=1812))\n",
    "          ]\n",
    "\n",
    "for name, model in models:\n",
    "    model.fit(X_train_sc, y_train)\n",
    "    y_pred = model.predict(X_test_sc)\n",
    "    accuracy = model.score(X_test_sc, y_test)\n",
    "    MSE = mean_squared_error(y_test, y_pred)\n",
    "    R2_score = r2_score(y_test, y_pred)\n",
    "    results.append((name, accuracy, MSE, R2_score))\n",
    "    acc = (model.score(X_train_sc , y_train)*100)\n",
    "    print(f'The accuracy of the {name} Model Train is {acc:.2f}')\n",
    "    acc =(model.score(X_test_sc , y_test)*100)\n",
    "    print(f'The accuracy of the  {name} Model Test is {acc:.2f}')    \n",
    "    plt.scatter(y_test, y_pred,s=10,color='#9B673C')\n",
    "    plt.xlabel('Actual Values')\n",
    "    plt.ylabel('Predicted Values')\n",
    "    plt.title(f' {name} Evaluation')\n",
    "    plt.plot([min(y_test), max(y_test)], [min(y_test), max(y_test)], color='green', linewidth = 4)\n",
    "    plt.show()\n",
    "\n",
    "dff = pd.DataFrame(results, columns=['Model', 'Accuracy', 'MSE', 'R2_score'])\n",
    "df_styled_best = dff.style.highlight_max(subset=['Accuracy','R2_score'], color='green').highlight_min(subset=['MSE'], color='green').highlight_max(subset=['MSE'], color='red').highlight_min(subset=['Accuracy','R2_score'], color='red')\n",
    "display(df_styled_best)"
   ]
  },
  {
   "cell_type": "code",
   "execution_count": 46,
   "metadata": {},
   "outputs": [
    {
     "data": {
      "text/plain": [
       "['Canada_GBR.pkl']"
      ]
     },
     "execution_count": 46,
     "metadata": {},
     "output_type": "execute_result"
    }
   ],
   "source": [
    "import joblib\n",
    "name = 'GBR'\n",
    "model = GradientBoostingRegressor(n_estimators=100, learning_rate=0.1, max_depth=3,random_state=42)\n",
    "model.fit(X_train_sc, y_train)\n",
    "y_pred = model.predict(X_test_sc)\n",
    "accuracy = model.score(X_test_sc, y_test)\n",
    "MSE = mean_squared_error(y_test, y_pred)\n",
    "R2_score = r2_score(y_test, y_pred)\n",
    "results.append((name, accuracy, MSE, R2_score))\n",
    "\n",
    "model_filename = \"Canada_GBR.pkl\"\n",
    "joblib.dump(model, model_filename)\n"
   ]
  },
  {
   "cell_type": "code",
   "execution_count": 47,
   "metadata": {},
   "outputs": [
    {
     "data": {
      "text/plain": [
       "['Canada_DTC.pkl']"
      ]
     },
     "execution_count": 47,
     "metadata": {},
     "output_type": "execute_result"
    }
   ],
   "source": [
    "import joblib\n",
    "name = 'DTC'\n",
    "model = DecisionTreeRegressor(random_state=1812)\n",
    "model.fit(X_train_sc, y_train)\n",
    "y_pred = model.predict(X_test_sc)\n",
    "accuracy = model.score(X_test_sc, y_test)\n",
    "MSE = mean_squared_error(y_test, y_pred)\n",
    "R2_score = r2_score(y_test, y_pred)\n",
    "results.append((name, accuracy, MSE, R2_score))\n",
    "\n",
    "model_filename = \"Canada_DTC.pkl\"\n",
    "joblib.dump(model, model_filename)\n"
   ]
  },
  {
   "cell_type": "code",
   "execution_count": 48,
   "metadata": {},
   "outputs": [],
   "source": [
    "Y.to_csv('Canada_Y.csv',sep='\\t')"
   ]
  },
  {
   "cell_type": "code",
   "execution_count": 49,
   "metadata": {},
   "outputs": [],
   "source": [
    "X.to_csv('Canada_X2.csv',sep='\\t')"
   ]
  },
  {
   "cell_type": "code",
   "execution_count": null,
   "metadata": {},
   "outputs": [],
   "source": []
  }
 ],
 "metadata": {
  "kernelspec": {
   "display_name": "tensorflow",
   "language": "python",
   "name": "python3"
  },
  "language_info": {
   "codemirror_mode": {
    "name": "ipython",
    "version": 3
   },
   "file_extension": ".py",
   "mimetype": "text/x-python",
   "name": "python",
   "nbconvert_exporter": "python",
   "pygments_lexer": "ipython3",
   "version": "3.12.4"
  }
 },
 "nbformat": 4,
 "nbformat_minor": 2
}

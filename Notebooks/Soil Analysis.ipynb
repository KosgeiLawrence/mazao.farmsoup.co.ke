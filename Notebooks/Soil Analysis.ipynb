{
 "cells": [
  {
   "cell_type": "markdown",
   "id": "656776f3",
   "metadata": {},
   "source": [
    "# Soil Analysis Using CNN"
   ]
  },
  {
   "cell_type": "code",
   "execution_count": 2,
   "id": "5d86e3be",
   "metadata": {},
   "outputs": [
    {
     "name": "stderr",
     "output_type": "stream",
     "text": [
      "2023-12-03 09:23:11.865079: I tensorflow/core/platform/cpu_feature_guard.cc:182] This TensorFlow binary is optimized to use available CPU instructions in performance-critical operations.\n",
      "To enable the following instructions: AVX2 FMA, in other operations, rebuild TensorFlow with the appropriate compiler flags.\n"
     ]
    }
   ],
   "source": [
    "import tensorflow as tf\n",
    "import os\n",
    "import matplotlib.pyplot as plt\n",
    "import seaborn as sns"
   ]
  },
  {
   "cell_type": "code",
   "execution_count": 3,
   "id": "bd0389ca",
   "metadata": {},
   "outputs": [],
   "source": [
    "#path to the dataset\n",
    "dir_black = os.path.join('Soil types/Black Soil')\n",
    "dir_Cinder = os.path.join('Soil types/Cinder Soil')\n",
    "dir_Laterite = os.path.join('Soil types/Laterite Soil')\n",
    "dir_peat = os.path.join('Soil types/Peat Soil')\n",
    "dir_yellow = os.path.join('Soil types/Yellow Soil')"
   ]
  },
  {
   "cell_type": "code",
   "execution_count": 4,
   "id": "e44ac3c9",
   "metadata": {},
   "outputs": [],
   "source": [
    "image_size = 220\n",
    "batch_size = 10\n",
    "target_size = (image_size, image_size)\n",
    "input_shape = (image_size, image_size, 3)"
   ]
  },
  {
   "cell_type": "code",
   "execution_count": 5,
   "id": "c2e471ba",
   "metadata": {},
   "outputs": [
    {
     "name": "stdout",
     "output_type": "stream",
     "text": [
      "Found 156 images belonging to 5 classes.\n"
     ]
    }
   ],
   "source": [
    "# Data Augmentation\n",
    "from tensorflow.keras.preprocessing.image import ImageDataGenerator\n",
    "train_datagen = ImageDataGenerator(rescale=1/255)\n",
    "train_generator = train_datagen.flow_from_directory(\n",
    "        'Soil types/', \n",
    "        target_size=(200, 200),\n",
    "        batch_size = batch_size,\n",
    "        classes = [ 'Black Soil','Cinder Soil', 'Laterite Soil','Peat Soil','Yellow Soil'],\n",
    "       class_mode='categorical')"
   ]
  },
  {
   "cell_type": "code",
   "execution_count": 6,
   "id": "b04007e4",
   "metadata": {},
   "outputs": [],
   "source": [
    "for image_batch, label_batch in train_generator:\n",
    "  break\n",
    "  image_batch.shape, label_batch.shape"
   ]
  },
  {
   "cell_type": "code",
   "execution_count": 7,
   "id": "8ffc13e8",
   "metadata": {},
   "outputs": [
    {
     "name": "stdout",
     "output_type": "stream",
     "text": [
      "{'Black Soil': 0, 'Cinder Soil': 1, 'Laterite Soil': 2, 'Peat Soil': 3, 'Yellow Soil': 4}\n"
     ]
    }
   ],
   "source": [
    "print (train_generator.class_indices)"
   ]
  },
  {
   "cell_type": "code",
   "execution_count": 8,
   "id": "1d1b0c9a",
   "metadata": {},
   "outputs": [],
   "source": [
    "# Model\n",
    "model = tf.keras.models.Sequential([\n",
    "    tf.keras.layers.Conv2D(16, (3,3), activation='relu', input_shape=(220, 220, 3)),\n",
    "    tf.keras.layers.MaxPooling2D(2, 2),\n",
    "    tf.keras.layers.Conv2D(32, (3,3), activation='relu'),\n",
    "    tf.keras.layers.MaxPooling2D(2,2),\n",
    "    tf.keras.layers.Conv2D(64, (3,3), activation='relu'),\n",
    "    tf.keras.layers.MaxPooling2D(2,2),\n",
    "    tf.keras.layers.Conv2D(64, (3,3), activation='relu'),\n",
    "    tf.keras.layers.MaxPooling2D(2,2),\n",
    "    tf.keras.layers.Conv2D(64, (3,3), activation='relu'),\n",
    "    tf.keras.layers.MaxPooling2D(2,2),\n",
    "    tf.keras.layers.Flatten(),\n",
    "    tf.keras.layers.Dense(128, activation='relu'),\n",
    "    tf.keras.layers.Dense(5, activation='softmax')\n",
    "])"
   ]
  },
  {
   "cell_type": "code",
   "execution_count": 9,
   "id": "eba33859",
   "metadata": {},
   "outputs": [
    {
     "name": "stdout",
     "output_type": "stream",
     "text": [
      "Model: \"sequential\"\n",
      "_________________________________________________________________\n",
      " Layer (type)                Output Shape              Param #   \n",
      "=================================================================\n",
      " conv2d (Conv2D)             (None, 218, 218, 16)      448       \n",
      "                                                                 \n",
      " max_pooling2d (MaxPooling2  (None, 109, 109, 16)      0         \n",
      " D)                                                              \n",
      "                                                                 \n",
      " conv2d_1 (Conv2D)           (None, 107, 107, 32)      4640      \n",
      "                                                                 \n",
      " max_pooling2d_1 (MaxPoolin  (None, 53, 53, 32)        0         \n",
      " g2D)                                                            \n",
      "                                                                 \n",
      " conv2d_2 (Conv2D)           (None, 51, 51, 64)        18496     \n",
      "                                                                 \n",
      " max_pooling2d_2 (MaxPoolin  (None, 25, 25, 64)        0         \n",
      " g2D)                                                            \n",
      "                                                                 \n",
      " conv2d_3 (Conv2D)           (None, 23, 23, 64)        36928     \n",
      "                                                                 \n",
      " max_pooling2d_3 (MaxPoolin  (None, 11, 11, 64)        0         \n",
      " g2D)                                                            \n",
      "                                                                 \n",
      " conv2d_4 (Conv2D)           (None, 9, 9, 64)          36928     \n",
      "                                                                 \n",
      " max_pooling2d_4 (MaxPoolin  (None, 4, 4, 64)          0         \n",
      " g2D)                                                            \n",
      "                                                                 \n",
      " flatten (Flatten)           (None, 1024)              0         \n",
      "                                                                 \n",
      " dense (Dense)               (None, 128)               131200    \n",
      "                                                                 \n",
      " dense_1 (Dense)             (None, 5)                 645       \n",
      "                                                                 \n",
      "=================================================================\n",
      "Total params: 229285 (895.64 KB)\n",
      "Trainable params: 229285 (895.64 KB)\n",
      "Non-trainable params: 0 (0.00 Byte)\n",
      "_________________________________________________________________\n"
     ]
    }
   ],
   "source": [
    "model.summary()"
   ]
  },
  {
   "cell_type": "code",
   "execution_count": 10,
   "id": "a2321341",
   "metadata": {},
   "outputs": [],
   "source": [
    "from tensorflow.keras.optimizers import RMSprop\n",
    "model.compile(loss='categorical_crossentropy',\n",
    "              optimizer=RMSprop(learning_rate=0.001),\n",
    "              metrics=['acc'])"
   ]
  },
  {
   "cell_type": "code",
   "execution_count": 11,
   "id": "6466fbac",
   "metadata": {},
   "outputs": [],
   "source": [
    "total_sample = train_generator.n\n",
    "n_epochs = 50"
   ]
  },
  {
   "cell_type": "code",
   "execution_count": 12,
   "id": "86cbf11d",
   "metadata": {},
   "outputs": [
    {
     "name": "stdout",
     "output_type": "stream",
     "text": [
      "Epoch 1/50\n",
      "15/15 [==============================] - 3s 144ms/step - loss: 1.5652 - acc: 0.2467\n",
      "Epoch 2/50\n",
      "15/15 [==============================] - 2s 148ms/step - loss: 1.3045 - acc: 0.4041\n",
      "Epoch 3/50\n",
      "15/15 [==============================] - 3s 171ms/step - loss: 1.1050 - acc: 0.4384\n",
      "Epoch 4/50\n",
      "15/15 [==============================] - 3s 184ms/step - loss: 1.0597 - acc: 0.4589\n",
      "Epoch 5/50\n",
      "15/15 [==============================] - 2s 161ms/step - loss: 1.0248 - acc: 0.4795\n",
      "Epoch 6/50\n",
      "15/15 [==============================] - 3s 188ms/step - loss: 0.9334 - acc: 0.5616\n",
      "Epoch 7/50\n",
      "15/15 [==============================] - 3s 214ms/step - loss: 0.8569 - acc: 0.6067\n",
      "Epoch 8/50\n",
      "15/15 [==============================] - 3s 223ms/step - loss: 0.7894 - acc: 0.6301\n",
      "Epoch 9/50\n",
      "15/15 [==============================] - 3s 173ms/step - loss: 0.8543 - acc: 0.6507\n",
      "Epoch 10/50\n",
      "15/15 [==============================] - 3s 169ms/step - loss: 0.6508 - acc: 0.7260\n",
      "Epoch 11/50\n",
      "15/15 [==============================] - 3s 168ms/step - loss: 0.7910 - acc: 0.6370\n",
      "Epoch 12/50\n",
      "15/15 [==============================] - 3s 164ms/step - loss: 0.7396 - acc: 0.6781\n",
      "Epoch 13/50\n",
      "15/15 [==============================] - 3s 166ms/step - loss: 0.5855 - acc: 0.7740\n",
      "Epoch 14/50\n",
      "15/15 [==============================] - 3s 172ms/step - loss: 0.7824 - acc: 0.6438\n",
      "Epoch 15/50\n",
      "15/15 [==============================] - 3s 166ms/step - loss: 0.6383 - acc: 0.7055\n",
      "Epoch 16/50\n",
      "15/15 [==============================] - 3s 169ms/step - loss: 0.6070 - acc: 0.7123\n",
      "Epoch 17/50\n",
      "15/15 [==============================] - 3s 169ms/step - loss: 0.6186 - acc: 0.7808\n",
      "Epoch 18/50\n",
      "15/15 [==============================] - 3s 176ms/step - loss: 0.6370 - acc: 0.7329\n",
      "Epoch 19/50\n",
      "15/15 [==============================] - 3s 213ms/step - loss: 0.5201 - acc: 0.8151\n",
      "Epoch 20/50\n",
      "15/15 [==============================] - 3s 167ms/step - loss: 0.4754 - acc: 0.8562\n",
      "Epoch 21/50\n",
      "15/15 [==============================] - 3s 209ms/step - loss: 0.5162 - acc: 0.8151\n",
      "Epoch 22/50\n",
      "15/15 [==============================] - 3s 196ms/step - loss: 0.4125 - acc: 0.8288\n",
      "Epoch 23/50\n",
      "15/15 [==============================] - 3s 201ms/step - loss: 0.3432 - acc: 0.8836\n",
      "Epoch 24/50\n",
      "15/15 [==============================] - 3s 205ms/step - loss: 0.3784 - acc: 0.8630\n",
      "Epoch 25/50\n",
      "15/15 [==============================] - 3s 187ms/step - loss: 0.2843 - acc: 0.9041\n",
      "Epoch 26/50\n",
      "15/15 [==============================] - 3s 206ms/step - loss: 0.3013 - acc: 0.8836\n",
      "Epoch 27/50\n",
      "15/15 [==============================] - 3s 185ms/step - loss: 0.3883 - acc: 0.8699\n",
      "Epoch 28/50\n",
      "15/15 [==============================] - 3s 218ms/step - loss: 0.3442 - acc: 0.9041\n",
      "Epoch 29/50\n",
      "15/15 [==============================] - 3s 211ms/step - loss: 0.3990 - acc: 0.8630\n",
      "Epoch 30/50\n",
      "15/15 [==============================] - 3s 176ms/step - loss: 0.2478 - acc: 0.9178\n",
      "Epoch 31/50\n",
      "15/15 [==============================] - 3s 200ms/step - loss: 0.2391 - acc: 0.9133\n",
      "Epoch 32/50\n",
      "15/15 [==============================] - 3s 179ms/step - loss: 0.2184 - acc: 0.9110\n",
      "Epoch 33/50\n",
      "15/15 [==============================] - 3s 194ms/step - loss: 0.3154 - acc: 0.8836\n",
      "Epoch 34/50\n",
      "15/15 [==============================] - 3s 180ms/step - loss: 0.2447 - acc: 0.9200\n",
      "Epoch 35/50\n",
      "15/15 [==============================] - 3s 189ms/step - loss: 0.1886 - acc: 0.9384\n",
      "Epoch 36/50\n",
      "15/15 [==============================] - 3s 205ms/step - loss: 0.3393 - acc: 0.9247\n",
      "Epoch 37/50\n",
      "15/15 [==============================] - 3s 178ms/step - loss: 0.1005 - acc: 0.9452\n",
      "Epoch 38/50\n",
      "15/15 [==============================] - 3s 187ms/step - loss: 0.2251 - acc: 0.9315\n",
      "Epoch 39/50\n",
      "15/15 [==============================] - 3s 182ms/step - loss: 0.1198 - acc: 0.9452\n",
      "Epoch 40/50\n",
      "15/15 [==============================] - 3s 194ms/step - loss: 0.2176 - acc: 0.9315\n",
      "Epoch 41/50\n",
      "15/15 [==============================] - 3s 180ms/step - loss: 0.0638 - acc: 0.9863\n",
      "Epoch 42/50\n",
      "15/15 [==============================] - 3s 185ms/step - loss: 0.3060 - acc: 0.9247\n",
      "Epoch 43/50\n",
      "15/15 [==============================] - 3s 201ms/step - loss: 0.0212 - acc: 1.0000\n",
      "Epoch 44/50\n",
      "15/15 [==============================] - 3s 213ms/step - loss: 0.2498 - acc: 0.9521\n",
      "Epoch 45/50\n",
      "15/15 [==============================] - 3s 194ms/step - loss: 0.0951 - acc: 0.9863\n",
      "Epoch 46/50\n",
      "15/15 [==============================] - 3s 212ms/step - loss: 0.1918 - acc: 0.9315\n",
      "Epoch 47/50\n",
      "15/15 [==============================] - 3s 231ms/step - loss: 0.2616 - acc: 0.9315\n",
      "Epoch 48/50\n",
      "15/15 [==============================] - 3s 196ms/step - loss: 0.0484 - acc: 0.9795\n",
      "Epoch 49/50\n",
      "15/15 [==============================] - 3s 192ms/step - loss: 0.0069 - acc: 1.0000\n",
      "Epoch 50/50\n",
      "15/15 [==============================] - 3s 193ms/step - loss: 0.3167 - acc: 0.9315\n"
     ]
    }
   ],
   "source": [
    "history = model.fit(\n",
    "        train_generator, \n",
    "        steps_per_epoch = int(total_sample/batch_size),  \n",
    "        epochs = n_epochs,\n",
    "        verbose = 1)"
   ]
  },
  {
   "cell_type": "code",
   "execution_count": 21,
   "metadata": {},
   "outputs": [
    {
     "data": {
      "image/png": "[encoded data removed]",
      "text/plain": [
       "<Figure size 800x400 with 1 Axes>"
      ]
     },
     "metadata": {},
     "output_type": "display_data"
    }
   ],
   "source": [
    "plt.figure(figsize=(8, 4))  # Adjust the figure size to your preference\n",
    "\n",
    "# Setting a Seaborn style\n",
    "sns.set_style(\"whitegrid\")\n",
    "\n",
    "# Plotting the data with improved aesthetics\n",
    "plt.plot(range(1, n_epochs + 1), history['acc'], marker='o', color='black', linewidth=1, markersize=9)\n",
    "\n",
    "# Title and labels with increased font sizes\n",
    "plt.title(\"Training Accuracy with Epochs\", fontsize=20)\n",
    "plt.xlabel(\"Epochs\", fontsize=15)\n",
    "plt.ylabel(\"Training Accuracy\", fontsize=15)\n",
    "plt.xticks(fontsize=12)\n",
    "plt.yticks(fontsize=12)\n",
    "\n",
    "# Customizing background color and tick colors\n",
    "plt.gca().set_facecolor('#f5f5f5')  # Set background color\n",
    "plt.tick_params(axis='x', colors='gray')  # Set x-axis tick color\n",
    "plt.tick_params(axis='y', colors='gray')  # Set y-axis tick color\n",
    "\n",
    "# Showing the plot\n",
    "plt.show()\n"
   ]
  },
  {
   "cell_type": "code",
   "execution_count": null,
   "id": "b73a4ce7",
   "metadata": {},
   "outputs": [],
   "source": [
    "model.save('soil_analysis_V1.h5')"
   ]
  },
  {
   "cell_type": "markdown",
   "id": "386259e5",
   "metadata": {},
   "source": [
    "# End"
   ]
  }
 ],
 "metadata": {
  "kernelspec": {
   "display_name": "Python 3 (ipykernel)",
   "language": "python",
   "name": "python3"
  },
  "language_info": {
   "codemirror_mode": {
    "name": "ipython",
    "version": 3
   },
   "file_extension": ".py",
   "mimetype": "text/x-python",
   "name": "python",
   "nbconvert_exporter": "python",
   "pygments_lexer": "ipython3",
   "version": "3.11.5"
  }
 },
 "nbformat": 4,
 "nbformat_minor": 5
}
